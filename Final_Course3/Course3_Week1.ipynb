{
 "cells": [
  {
   "cell_type": "markdown",
   "metadata": {},
   "source": [
    "# Week 1: MSE and R^2, Accuracy and Error, Precision and Recall\n",
    "\n",
    "#### Making Meaningful Predictions from Data\n",
    "This week we were introduced to three sets of concepts. We looked at MSE and R^2 along with their relation to one another. We learned about how to measure Accuracy and Error mathematically. And finally we learned about Precision and Recall using true/false positive/negatives."
   ]
  },
  {
   "cell_type": "markdown",
   "metadata": {},
   "source": [
    "## Part 1: MSE and R^2\n",
    "\n",
    "We are going to work with a 2D example of these topics for the purpose of visualization. In your capstone project at the end of this series you will use this on your dataset as a whole. This example is meant to be simpler as an introduction to the topics."
   ]
  },
  {
   "cell_type": "code",
   "execution_count": 1,
   "metadata": {},
   "outputs": [],
   "source": [
    "import numpy as np\n",
    "from sklearn import linear_model"
   ]
  },
  {
   "cell_type": "markdown",
   "metadata": {},
   "source": [
    "### The \"Data\"\n",
    "\n",
    "In this example we are going to use a 2D numpy array to calculate two separate MSE and R^2 values. The array defined below will be the \"data\" for this example.\n",
    "\n",
    "###### Note: Because of this exmaple using numpy arrays, most of our answers will return in an array form. Don't worry! This isn't affecting any of our answers! "
   ]
  },
  {
   "cell_type": "code",
   "execution_count": 2,
   "metadata": {},
   "outputs": [],
   "source": [
    "model = linear_model.LinearRegression()\n",
    "exArray = np.array([[0], [1], [3], [2],\n",
    "                   [2],[3],[4], [0]])"
   ]
  },
  {
   "cell_type": "code",
   "execution_count": 3,
   "metadata": {},
   "outputs": [
    {
     "name": "stdout",
     "output_type": "stream",
     "text": [
      "(8, 1)\n"
     ]
    },
    {
     "data": {
      "text/plain": [
       "array([0])"
      ]
     },
     "execution_count": 3,
     "metadata": {},
     "output_type": "execute_result"
    }
   ],
   "source": [
    "print(exArray.shape) #Check the dimanesions of exArray using numpy operators \n",
    "#if you are unfamiliar with this don't worry it is just for this example\n",
    "\n",
    "exArray[0]"
   ]
  },
  {
   "cell_type": "code",
   "execution_count": 4,
   "metadata": {},
   "outputs": [],
   "source": [
    "#Note that X and y must have the same dimensions!\n",
    "y = exArray[4:]\n",
    "X = exArray[:4]"
   ]
  },
  {
   "cell_type": "code",
   "execution_count": 5,
   "metadata": {},
   "outputs": [
    {
     "name": "stdout",
     "output_type": "stream",
     "text": [
      "Coefficient: \n",
      " [[0.3]]\n"
     ]
    }
   ],
   "source": [
    "#We have to fit our model!\n",
    "model.fit(X,y)\n",
    "print('Coefficient: \\n', model.coef_)"
   ]
  },
  {
   "cell_type": "code",
   "execution_count": 6,
   "metadata": {},
   "outputs": [],
   "source": [
    "#The values of these test arrays are unimportant, so the values listed here are random.\n",
    "#Try changing them around and running through the below code again to see how they affect MSE and R^2\n",
    "\n",
    "XTest = np.array([[-2]])\n",
    "yTest = np.array([[4]])"
   ]
  },
  {
   "cell_type": "code",
   "execution_count": 7,
   "metadata": {},
   "outputs": [],
   "source": [
    "predictions = model.predict(XTest)"
   ]
  },
  {
   "cell_type": "code",
   "execution_count": 15,
   "metadata": {},
   "outputs": [],
   "source": [
    "#TODO Calculate the squared differences as in lecture.\n",
    "\n",
    "differences = [(x-y)**2 for (x,y) in zip(predictions,y)]"
   ]
  },
  {
   "cell_type": "markdown",
   "metadata": {},
   "source": [
    "The MSE is just the average (Mean) of these squared differences:"
   ]
  },
  {
   "cell_type": "code",
   "execution_count": 16,
   "metadata": {},
   "outputs": [
    {
     "name": "stdout",
     "output_type": "stream",
     "text": [
      "MSE = 0.6400000000000005\n"
     ]
    }
   ],
   "source": [
    "#TODO Calculate the MSE\n",
    "\n",
    "MSE =np.sum(differences)/len(differences)\n",
    "\n",
    "print(\"MSE = \" + str(MSE)) #Answer should be .64"
   ]
  },
  {
   "cell_type": "markdown",
   "metadata": {},
   "source": [
    "As we saw in the lectures, the R^2 (and the FVU, or \"Fraction of Variance Unexplained\") normalize the Mean Squared Error based on the variance of the data:"
   ]
  },
  {
   "cell_type": "code",
   "execution_count": 17,
   "metadata": {},
   "outputs": [
    {
     "name": "stdout",
     "output_type": "stream",
     "text": [
      "R2 = 0.7074285714285713\n"
     ]
    }
   ],
   "source": [
    "#TODO Calculate R2\n",
    "FVU = MSE / np.var(y)\n",
    "\n",
    "#SOLN (there are more ways than this to solve this)\n",
    "R2 = 1-FVU\n",
    "\n",
    "print(\"R2 = \" + str(R2)) #Answer should be roughly .707..."
   ]
  },
  {
   "cell_type": "markdown",
   "metadata": {},
   "source": [
    "## Part 2: Accuracy and Error\n",
    "\n",
    "To start measuring accuracy and error, we must first replace our output variable with a binary variable indicating if the value in the array is greater than a select value. For this example we will check if the values are greater than or equal to 2."
   ]
  },
  {
   "cell_type": "code",
   "execution_count": 18,
   "metadata": {},
   "outputs": [
    {
     "name": "stderr",
     "output_type": "stream",
     "text": [
      "/anaconda3/lib/python3.7/site-packages/sklearn/linear_model/logistic.py:433: FutureWarning: Default solver will be changed to 'lbfgs' in 0.22. Specify a solver to silence this warning.\n",
      "  FutureWarning)\n",
      "/anaconda3/lib/python3.7/site-packages/sklearn/utils/validation.py:761: DataConversionWarning: A column-vector y was passed when a 1d array was expected. Please change the shape of y to (n_samples, ), for example using ravel().\n",
      "  y = column_or_1d(y, warn=True)\n"
     ]
    },
    {
     "data": {
      "text/plain": [
       "[array([ True]), array([ True]), array([ True]), array([False])]"
      ]
     },
     "execution_count": 18,
     "metadata": {},
     "output_type": "execute_result"
    }
   ],
   "source": [
    "y_class = [(num >= 2) for num in y]\n",
    "modelA = linear_model.LogisticRegression()\n",
    "modelA.fit(X, y_class)\n",
    "y_class"
   ]
  },
  {
   "cell_type": "code",
   "execution_count": 19,
   "metadata": {},
   "outputs": [],
   "source": [
    "predictionsA = modelA.predict(X)"
   ]
  },
  {
   "cell_type": "code",
   "execution_count": 20,
   "metadata": {},
   "outputs": [],
   "source": [
    "correct = predictionsA == y_class"
   ]
  },
  {
   "cell_type": "markdown",
   "metadata": {},
   "source": [
    "### Classification Diagnostics: Accuracy"
   ]
  },
  {
   "cell_type": "code",
   "execution_count": 27,
   "metadata": {},
   "outputs": [
    {
     "ename": "TypeError",
     "evalue": "'float' object is not subscriptable",
     "output_type": "error",
     "traceback": [
      "\u001b[0;31m---------------------------------------------------------------------------\u001b[0m",
      "\u001b[0;31mTypeError\u001b[0m                                 Traceback (most recent call last)",
      "\u001b[0;32m<ipython-input-27-f5542c740768>\u001b[0m in \u001b[0;36m<module>\u001b[0;34m\u001b[0m\n\u001b[1;32m      3\u001b[0m \u001b[0maccuracy\u001b[0m \u001b[0;34m=\u001b[0m \u001b[0mlen\u001b[0m\u001b[0;34m(\u001b[0m\u001b[0mcorrect\u001b[0m\u001b[0;34m)\u001b[0m\u001b[0;34m/\u001b[0m\u001b[0mlen\u001b[0m\u001b[0;34m(\u001b[0m\u001b[0mcorrect\u001b[0m\u001b[0;34m)\u001b[0m\u001b[0;34m\u001b[0m\u001b[0;34m\u001b[0m\u001b[0m\n\u001b[1;32m      4\u001b[0m \u001b[0;34m\u001b[0m\u001b[0m\n\u001b[0;32m----> 5\u001b[0;31m \u001b[0mprint\u001b[0m\u001b[0;34m(\u001b[0m\u001b[0;34m\"Accuracy = \"\u001b[0m \u001b[0;34m+\u001b[0m \u001b[0mstr\u001b[0m\u001b[0;34m(\u001b[0m\u001b[0maccuracy\u001b[0m\u001b[0;34m[\u001b[0m\u001b[0;36m0\u001b[0m\u001b[0;34m]\u001b[0m\u001b[0;34m)\u001b[0m\u001b[0;34m)\u001b[0m \u001b[0;31m#Answer should be .75\u001b[0m\u001b[0;34m\u001b[0m\u001b[0;34m\u001b[0m\u001b[0m\n\u001b[0m",
      "\u001b[0;31mTypeError\u001b[0m: 'float' object is not subscriptable"
     ]
    }
   ],
   "source": [
    "#TODO Calculate Accuracy in any way not involving TP, TF, FP, FN\n",
    "\n",
    "accuracy = len(correct)/len(correct)\n",
    "\n",
    "print(\"Accuracy = \" + str(accuracy[0])) #Answer should be .75"
   ]
  },
  {
   "cell_type": "code",
   "execution_count": 25,
   "metadata": {},
   "outputs": [
    {
     "data": {
      "text/plain": [
       "array([0.75, 0.75, 0.75, 0.75])"
      ]
     },
     "execution_count": 25,
     "metadata": {},
     "output_type": "execute_result"
    }
   ],
   "source": [
    "sum(correct)/len(correct)"
   ]
  },
  {
   "cell_type": "code",
   "execution_count": 24,
   "metadata": {},
   "outputs": [
    {
     "data": {
      "text/plain": [
       "array([[ True,  True,  True,  True],\n",
       "       [ True,  True,  True,  True],\n",
       "       [ True,  True,  True,  True],\n",
       "       [False, False, False, False]])"
      ]
     },
     "execution_count": 24,
     "metadata": {},
     "output_type": "execute_result"
    }
   ],
   "source": [
    "correct"
   ]
  },
  {
   "cell_type": "code",
   "execution_count": 28,
   "metadata": {},
   "outputs": [],
   "source": [
    "TP = sum([(p and l) for (p,l) in zip(predictionsA, y_class)])\n",
    "FP = sum([(p and not l) for (p,l) in zip(predictionsA, y_class)])\n",
    "TN = sum([(not p and not l) for (p,l) in zip(predictionsA, y_class)])\n",
    "FN = sum([(not p and l) for (p,l) in zip(predictionsA, y_class)])"
   ]
  },
  {
   "cell_type": "code",
   "execution_count": 29,
   "metadata": {},
   "outputs": [
    {
     "name": "stdout",
     "output_type": "stream",
     "text": [
      "TP = [3]\n",
      "FP = 1\n",
      "TN = 0\n",
      "FN = 0\n"
     ]
    }
   ],
   "source": [
    "print(\"TP = \" + str(TP))\n",
    "print(\"FP = \" + str(FP))\n",
    "print(\"TN = \" + str(TN))\n",
    "print(\"FN = \" + str(FN))"
   ]
  },
  {
   "cell_type": "code",
   "execution_count": 31,
   "metadata": {},
   "outputs": [
    {
     "data": {
      "text/plain": [
       "0.75"
      ]
     },
     "execution_count": 31,
     "metadata": {},
     "output_type": "execute_result"
    }
   ],
   "source": [
    "#TODO Show that calculating accuracy using true/false positives/negatives will get the same answer\n",
    "\n",
    "TFAccuracy = (TP+TN)/(TP+FP+TN+FN)\n",
    "TFAccuracy[0]"
   ]
  },
  {
   "cell_type": "code",
   "execution_count": 32,
   "metadata": {},
   "outputs": [
    {
     "name": "stdout",
     "output_type": "stream",
     "text": [
      "1.0 0.0\n"
     ]
    }
   ],
   "source": [
    "TPR = TP / (TP + FN)\n",
    "TNR = TN / (TN + FP)\n",
    "print(TPR[0], TNR)"
   ]
  },
  {
   "cell_type": "code",
   "execution_count": 33,
   "metadata": {},
   "outputs": [
    {
     "name": "stdout",
     "output_type": "stream",
     "text": [
      "Balanced error rate = [0.5]\n"
     ]
    }
   ],
   "source": [
    "BER = 1 - 1/2 * (TPR + TNR)\n",
    "print(\"Balanced error rate = \" + str(BER)) #Answer should be .5"
   ]
  },
  {
   "cell_type": "markdown",
   "metadata": {},
   "source": [
    "## Part 3: Precision and Recall\n",
    "\n",
    "Precision and Recall are often used to rank performance of models. These can both be defined in terms of True Positives, False Positives, and False Negatives. (Though knowing any three of these true/false positives/negatives will give you the number of the remaining term)"
   ]
  },
  {
   "cell_type": "code",
   "execution_count": null,
   "metadata": {},
   "outputs": [],
   "source": [
    "#TODO Calculate Precision and recall in the terms defined in lecture.\n",
    "\n",
    "precision = (TP)/(TP+)\n",
    "recall = (TP)/(TP+)\n",
    "\n",
    "precision, recall #Answers should be (.75, 1.0)"
   ]
  },
  {
   "cell_type": "markdown",
   "metadata": {},
   "source": [
    "The F1 score is just the average (precisely, the harmonic mean) of precision and recall. This is useful since it's easy to have either a good precision, or a good recall in isolation, but it's hard for both values to be high simultaneously."
   ]
  },
  {
   "cell_type": "code",
   "execution_count": null,
   "metadata": {},
   "outputs": [],
   "source": [
    "F1 = 2 * (precision*recall) / (precision + recall)\n",
    "F1 #Answer should be roughly .857..."
   ]
  },
  {
   "cell_type": "markdown",
   "metadata": {},
   "source": [
    "## You're All Done!\n",
    "\n",
    "We have now introduced some basic ideas of classification and ranking. Next week you will use them on a dataset of reviews and see how these ideas can be applied to a proper dataset!"
   ]
  }
 ],
 "metadata": {
  "kernelspec": {
   "display_name": "Python 3",
   "language": "python",
   "name": "python3"
  },
  "language_info": {
   "codemirror_mode": {
    "name": "ipython",
    "version": 3
   },
   "file_extension": ".py",
   "mimetype": "text/x-python",
   "name": "python",
   "nbconvert_exporter": "python",
   "pygments_lexer": "ipython3",
   "version": "3.7.3"
  }
 },
 "nbformat": 4,
 "nbformat_minor": 2
}
